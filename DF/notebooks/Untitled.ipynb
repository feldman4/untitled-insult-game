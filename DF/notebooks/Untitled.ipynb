{
 "cells": [
  {
   "cell_type": "code",
   "execution_count": 2,
   "id": "7cc367e6-2f83-43f0-85da-979bb8b1e646",
   "metadata": {},
   "outputs": [],
   "source": [
    "from game.imports_ipython import *"
   ]
  },
  {
   "cell_type": "code",
   "execution_count": 4,
   "id": "72cf2ab5-e1e7-4ccd-b81e-6f1ecb83af76",
   "metadata": {},
   "outputs": [
    {
     "data": {
      "text/plain": [
       "['apple', 'appman', 'banana']"
      ]
     },
     "execution_count": 4,
     "metadata": {},
     "output_type": "execute_result"
    }
   ],
   "source": [
    "term.allowed"
   ]
  },
  {
   "cell_type": "code",
   "execution_count": 15,
   "id": "30469d8a-faf0-44a9-9789-98ceb08035fa",
   "metadata": {},
   "outputs": [],
   "source": [
    "with open('Untitled.ipynb') as fh1, open(\"Untitled.ipynb\") as fh2:\n",
    "    pass"
   ]
  },
  {
   "cell_type": "code",
   "execution_count": null,
   "id": "9d166663-7070-46a0-a01a-e3f44a9282c4",
   "metadata": {},
   "outputs": [
    {
     "name": "stdout",
     "output_type": "stream",
     "text": [
      "Listening for clients to connect\n",
      "Got connection from ('127.0.0.1', 51447)\n",
      "Got connection from ('127.0.0.1', 51448)\n",
      "Got connection from ('127.0.0.1', 51449)\n",
      "Got connection from ('127.0.0.1', 51451)\n"
     ]
    }
   ],
   "source": [
    "# https://notebook.community/bpgc-cte/python2017/Week%207/Network%20Programming\n",
    "import socket \n",
    "\n",
    "def client_handler(client_sock):\n",
    "    # Do things here\n",
    "\n",
    "    # .send() Takes byte type object\n",
    "    # b' it indicates that the literal should become a bytes literal in Python 3\n",
    "    client_sock.send(b'Thank you for connecting') \n",
    "\n",
    "    # Close the connection with the client\n",
    "    client_sock.close()\n",
    "\n",
    "\n",
    "# creates the socket\n",
    "server = socket.socket()\n",
    "\n",
    "PORT = 1234\n",
    "\n",
    "# bind the socket to the port. \\\n",
    "server.bind(('localhost',PORT))   # takes a tuple\n",
    "\n",
    "# at most 5 connections in the queue\n",
    "server.listen(5)   \n",
    "\n",
    "print(\"Listening for clients to connect\")\n",
    "\n",
    "while True:\n",
    " \n",
    "    # Establish connection with client.\n",
    "    # waits until a connection arrives i.e (blocking)\n",
    "    client, addr = server.accept()     \n",
    "    print('Got connection from', addr)\n",
    "    client_handler(client)"
   ]
  },
  {
   "cell_type": "code",
   "execution_count": 17,
   "id": "7ac996e3-703c-46ba-94cf-c3d864e112c9",
   "metadata": {},
   "outputs": [
    {
     "ename": "OSError",
     "evalue": "[Errno 22] Invalid argument",
     "output_type": "error",
     "traceback": [
      "\u001b[0;31m---------------------------------------------------------------------------\u001b[0m",
      "\u001b[0;31mOSError\u001b[0m                                   Traceback (most recent call last)",
      "\u001b[0;32m/var/folders/cq/t5cb2n8105qg_2g0chrbfkwskz8njc/T/ipykernel_11765/2805024862.py\u001b[0m in \u001b[0;36m<module>\u001b[0;34m\u001b[0m\n\u001b[0;32m----> 1\u001b[0;31m \u001b[0mclient\u001b[0m\u001b[0;34m,\u001b[0m \u001b[0maddr\u001b[0m \u001b[0;34m=\u001b[0m \u001b[0mserver\u001b[0m\u001b[0;34m.\u001b[0m\u001b[0maccept\u001b[0m\u001b[0;34m(\u001b[0m\u001b[0;34m)\u001b[0m\u001b[0;34m\u001b[0m\u001b[0;34m\u001b[0m\u001b[0m\n\u001b[0m",
      "\u001b[0;32m/anaconda/envs/bonn-game/lib/python3.8/socket.py\u001b[0m in \u001b[0;36maccept\u001b[0;34m(self)\u001b[0m\n\u001b[1;32m    290\u001b[0m         \u001b[0mFor\u001b[0m \u001b[0mIP\u001b[0m \u001b[0msockets\u001b[0m\u001b[0;34m,\u001b[0m \u001b[0mthe\u001b[0m \u001b[0maddress\u001b[0m \u001b[0minfo\u001b[0m \u001b[0;32mis\u001b[0m \u001b[0ma\u001b[0m \u001b[0mpair\u001b[0m \u001b[0;34m(\u001b[0m\u001b[0mhostaddr\u001b[0m\u001b[0;34m,\u001b[0m \u001b[0mport\u001b[0m\u001b[0;34m)\u001b[0m\u001b[0;34m.\u001b[0m\u001b[0;34m\u001b[0m\u001b[0;34m\u001b[0m\u001b[0m\n\u001b[1;32m    291\u001b[0m         \"\"\"\n\u001b[0;32m--> 292\u001b[0;31m         \u001b[0mfd\u001b[0m\u001b[0;34m,\u001b[0m \u001b[0maddr\u001b[0m \u001b[0;34m=\u001b[0m \u001b[0mself\u001b[0m\u001b[0;34m.\u001b[0m\u001b[0m_accept\u001b[0m\u001b[0;34m(\u001b[0m\u001b[0;34m)\u001b[0m\u001b[0;34m\u001b[0m\u001b[0;34m\u001b[0m\u001b[0m\n\u001b[0m\u001b[1;32m    293\u001b[0m         \u001b[0msock\u001b[0m \u001b[0;34m=\u001b[0m \u001b[0msocket\u001b[0m\u001b[0;34m(\u001b[0m\u001b[0mself\u001b[0m\u001b[0;34m.\u001b[0m\u001b[0mfamily\u001b[0m\u001b[0;34m,\u001b[0m \u001b[0mself\u001b[0m\u001b[0;34m.\u001b[0m\u001b[0mtype\u001b[0m\u001b[0;34m,\u001b[0m \u001b[0mself\u001b[0m\u001b[0;34m.\u001b[0m\u001b[0mproto\u001b[0m\u001b[0;34m,\u001b[0m \u001b[0mfileno\u001b[0m\u001b[0;34m=\u001b[0m\u001b[0mfd\u001b[0m\u001b[0;34m)\u001b[0m\u001b[0;34m\u001b[0m\u001b[0;34m\u001b[0m\u001b[0m\n\u001b[1;32m    294\u001b[0m         \u001b[0;31m# Issue #7995: if no default timeout is set and the listening\u001b[0m\u001b[0;34m\u001b[0m\u001b[0;34m\u001b[0m\u001b[0;34m\u001b[0m\u001b[0m\n",
      "\u001b[0;31mOSError\u001b[0m: [Errno 22] Invalid argument"
     ]
    }
   ],
   "source": [
    "client, addr = server.accept()     "
   ]
  },
  {
   "cell_type": "code",
   "execution_count": 13,
   "id": "fa3ef4f9-5691-471b-86df-bc6b337542aa",
   "metadata": {},
   "outputs": [
    {
     "data": {
      "text/plain": [
       "24"
      ]
     },
     "execution_count": 13,
     "metadata": {},
     "output_type": "execute_result"
    }
   ],
   "source": [
    "client.send(b'Thank you for connecting') "
   ]
  },
  {
   "cell_type": "code",
   "execution_count": null,
   "id": "99b07fb2-55b9-4002-a58d-93c293687851",
   "metadata": {},
   "outputs": [],
   "source": [
    "websocket = websockets.connect('ws://localhost:8765/')"
   ]
  }
 ],
 "metadata": {
  "kernelspec": {
   "display_name": "bonn-game",
   "language": "python",
   "name": "bonn-game"
  },
  "language_info": {
   "codemirror_mode": {
    "name": "ipython",
    "version": 3
   },
   "file_extension": ".py",
   "mimetype": "text/x-python",
   "name": "python",
   "nbconvert_exporter": "python",
   "pygments_lexer": "ipython3",
   "version": "3.8.11"
  }
 },
 "nbformat": 4,
 "nbformat_minor": 5
}
