{
 "cells": [
  {
   "cell_type": "code",
   "execution_count": 3,
   "id": "662ed995-6da0-4963-9373-0fdf8ba399d8",
   "metadata": {},
   "outputs": [],
   "source": [
    "from game.imports_ipython import *"
   ]
  },
  {
   "cell_type": "code",
   "execution_count": 14,
   "id": "42ac0385-cbc4-44b5-b9ce-c89dc03bd818",
   "metadata": {},
   "outputs": [],
   "source": [
    "import socket\n",
    "\n",
    "PORT = 1234\n",
    "client = socket.socket()\n",
    "\n",
    "# connect to the given address\n",
    "client.connect(('localhost', PORT))"
   ]
  },
  {
   "cell_type": "code",
   "execution_count": 15,
   "id": "170c25f9-f49c-493e-8802-99ba4122a2a8",
   "metadata": {},
   "outputs": [],
   "source": [
    "client.settimeout(0.1)"
   ]
  },
  {
   "cell_type": "code",
   "execution_count": 16,
   "id": "91668a21-839b-4392-bb6c-55ed8bfd26b3",
   "metadata": {},
   "outputs": [
    {
     "name": "stdout",
     "output_type": "stream",
     "text": [
      "b'Thank you for connecting'\n"
     ]
    }
   ],
   "source": [
    "try:\n",
    "    s = client.recv(1024)\n",
    "    print(s)\n",
    "except socket.timeout:\n",
    "    print('TImed out')"
   ]
  },
  {
   "cell_type": "code",
   "execution_count": 12,
   "id": "2b135de4-8751-42ab-b428-d2dc1abd709a",
   "metadata": {},
   "outputs": [],
   "source": []
  },
  {
   "cell_type": "code",
   "execution_count": 5,
   "id": "2f481abd-e92a-46af-951c-1cf3f648bcd5",
   "metadata": {},
   "outputs": [],
   "source": [
    "client.shutdown(socket.SHUT_RD)"
   ]
  },
  {
   "cell_type": "code",
   "execution_count": null,
   "id": "60aec1c9-32f1-4cce-bd94-a98a9a85c067",
   "metadata": {},
   "outputs": [],
   "source": []
  }
 ],
 "metadata": {
  "kernelspec": {
   "display_name": "bonn-game",
   "language": "python",
   "name": "bonn-game"
  },
  "language_info": {
   "codemirror_mode": {
    "name": "ipython",
    "version": 3
   },
   "file_extension": ".py",
   "mimetype": "text/x-python",
   "name": "python",
   "nbconvert_exporter": "python",
   "pygments_lexer": "ipython3",
   "version": "3.8.11"
  }
 },
 "nbformat": 4,
 "nbformat_minor": 5
}
