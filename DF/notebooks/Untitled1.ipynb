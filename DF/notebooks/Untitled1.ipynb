{
 "cells": [
  {
   "cell_type": "code",
   "execution_count": 14,
   "id": "42ac0385-cbc4-44b5-b9ce-c89dc03bd818",
   "metadata": {},
   "outputs": [],
   "source": [
    "import socket\n",
    "\n",
    "PORT = 1234\n",
    "client = socket.socket()\n",
    "\n",
    "# connect to the given address\n",
    "client.connect(('localhost', PORT))"
   ]
  },
  {
   "cell_type": "code",
   "execution_count": 15,
   "id": "170c25f9-f49c-493e-8802-99ba4122a2a8",
   "metadata": {},
   "outputs": [],
   "source": [
    "client.settimeout(0.1)"
   ]
  },
  {
   "cell_type": "code",
   "execution_count": 16,
   "id": "91668a21-839b-4392-bb6c-55ed8bfd26b3",
   "metadata": {},
   "outputs": [
    {
     "name": "stdout",
     "output_type": "stream",
     "text": [
      "b'Thank you for connecting'\n"
     ]
    }
   ],
   "source": [
    "try:\n",
    "    s = client.recv(1024)\n",
    "    print(s)\n",
    "except socket.timeout:\n",
    "    print('TImed out')"
   ]
  },
  {
   "cell_type": "code",
   "execution_count": 19,
   "id": "a370d47c-2b1c-48ca-8bbd-e8be10fb69a1",
   "metadata": {},
   "outputs": [
    {
     "data": {
      "text/plain": [
       "'Thank you for connecting'"
      ]
     },
     "execution_count": 19,
     "metadata": {},
     "output_type": "execute_result"
    }
   ],
   "source": []
  },
  {
   "cell_type": "code",
   "execution_count": 12,
   "id": "2b135de4-8751-42ab-b428-d2dc1abd709a",
   "metadata": {},
   "outputs": [],
   "source": []
  },
  {
   "cell_type": "code",
   "execution_count": 8,
   "id": "2f481abd-e92a-46af-951c-1cf3f648bcd5",
   "metadata": {},
   "outputs": [
    {
     "ename": "OSError",
     "evalue": "[Errno 57] Socket is not connected",
     "output_type": "error",
     "traceback": [
      "\u001b[0;31m---------------------------------------------------------------------------\u001b[0m",
      "\u001b[0;31mOSError\u001b[0m                                   Traceback (most recent call last)",
      "\u001b[0;32m/var/folders/cq/t5cb2n8105qg_2g0chrbfkwskz8njc/T/ipykernel_16637/401740531.py\u001b[0m in \u001b[0;36m<module>\u001b[0;34m\u001b[0m\n\u001b[0;32m----> 1\u001b[0;31m \u001b[0mclient\u001b[0m\u001b[0;34m.\u001b[0m\u001b[0mshutdown\u001b[0m\u001b[0;34m(\u001b[0m\u001b[0msocket\u001b[0m\u001b[0;34m.\u001b[0m\u001b[0mSHUT_RD\u001b[0m\u001b[0;34m)\u001b[0m\u001b[0;34m\u001b[0m\u001b[0;34m\u001b[0m\u001b[0m\n\u001b[0m",
      "\u001b[0;31mOSError\u001b[0m: [Errno 57] Socket is not connected"
     ]
    }
   ],
   "source": [
    "client.shutdown(socket.SHUT_RD)"
   ]
  },
  {
   "cell_type": "code",
   "execution_count": null,
   "id": "60aec1c9-32f1-4cce-bd94-a98a9a85c067",
   "metadata": {},
   "outputs": [],
   "source": []
  }
 ],
 "metadata": {
  "kernelspec": {
   "display_name": "bonn-game",
   "language": "python",
   "name": "bonn-game"
  },
  "language_info": {
   "codemirror_mode": {
    "name": "ipython",
    "version": 3
   },
   "file_extension": ".py",
   "mimetype": "text/x-python",
   "name": "python",
   "nbconvert_exporter": "python",
   "pygments_lexer": "ipython3",
   "version": "3.8.11"
  }
 },
 "nbformat": 4,
 "nbformat_minor": 5
}
