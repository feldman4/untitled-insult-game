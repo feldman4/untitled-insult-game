{
 "cells": [
  {
   "cell_type": "code",
   "execution_count": 3,
   "id": "662ed995-6da0-4963-9373-0fdf8ba399d8",
   "metadata": {},
   "outputs": [],
   "source": [
    "from game.imports_ipython import *"
   ]
  },
  {
   "cell_type": "code",
   "execution_count": 7,
   "id": "39c5a22b-08d2-4c62-b81b-bd0ddcc02061",
   "metadata": {},
   "outputs": [],
   "source": [
    "message = start_level('Level 1 started', ['apostate', 'apiculturist', 'bandito'])"
   ]
  },
  {
   "cell_type": "code",
   "execution_count": null,
   "id": "67848f1b-2d23-426b-96fb-f19bc0b26425",
   "metadata": {},
   "outputs": [],
   "source": []
  }
 ],
 "metadata": {
  "kernelspec": {
   "display_name": "bonn-game",
   "language": "python",
   "name": "bonn-game"
  },
  "language_info": {
   "codemirror_mode": {
    "name": "ipython",
    "version": 3
   },
   "file_extension": ".py",
   "mimetype": "text/x-python",
   "name": "python",
   "nbconvert_exporter": "python",
   "pygments_lexer": "ipython3",
   "version": "3.8.11"
  }
 },
 "nbformat": 4,
 "nbformat_minor": 5
}
